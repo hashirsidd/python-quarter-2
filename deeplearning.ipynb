{
 "cells": [
  {
   "cell_type": "code",
   "execution_count": 14,
   "metadata": {},
   "outputs": [
    {
     "name": "stdout",
     "output_type": "stream",
     "text": [
      "Downloading data from https://storage.googleapis.com/tensorflow/tf-keras-datasets/mnist.npz\n",
      "11493376/11490434 [==============================] - 423s 37us/step\n"
     ]
    }
   ],
   "source": [
    "import tensorflow\n",
    "from tensorflow.keras.datasets import mnist\n",
    "(train_images, train_labels), (test_images, test_labels) = mnist.load_data()"
   ]
  },
  {
   "cell_type": "code",
   "execution_count": 17,
   "metadata": {},
   "outputs": [
    {
     "name": "stdout",
     "output_type": "stream",
     "text": [
      "WARNING:tensorflow:From C:\\softwares\\anaconda\\lib\\site-packages\\tensorflow\\python\\ops\\init_ops.py:1251: calling VarianceScaling.__init__ (from tensorflow.python.ops.init_ops) with dtype is deprecated and will be removed in a future version.\n",
      "Instructions for updating:\n",
      "Call initializer instance with the dtype argument instead of passing it to the constructor\n"
     ]
    }
   ],
   "source": [
    "from tensorflow.keras import models\n",
    "from tensorflow.keras import layers\n",
    "network = models.Sequential()\n",
    "network.add(layers.Dense(512, activation='relu', input_shape=(28 * 28,)))\n",
    "network.add(layers.Dense(10, activation='softmax'))"
   ]
  },
  {
   "cell_type": "code",
   "execution_count": 18,
   "metadata": {},
   "outputs": [
    {
     "data": {
      "text/plain": [
       "array([7, 2, 1, ..., 4, 5, 6], dtype=uint8)"
      ]
     },
     "execution_count": 18,
     "metadata": {},
     "output_type": "execute_result"
    }
   ],
   "source": [
    "test_labels"
   ]
  },
  {
   "cell_type": "code",
   "execution_count": 19,
   "metadata": {},
   "outputs": [],
   "source": [
    "network.compile(optimizer='rmsprop',\n",
    "loss='categorical_crossentropy',\n",
    "metrics=['accuracy'])"
   ]
  },
  {
   "cell_type": "code",
   "execution_count": 20,
   "metadata": {},
   "outputs": [],
   "source": [
    "train_images = train_images.reshape((60000, 28 * 28))\n",
    "train_images = train_images.astype('float32') / 255\n",
    "test_images = test_images.reshape((10000, 28 * 28))\n",
    "test_images = test_images.astype('float32') / 255"
   ]
  },
  {
   "cell_type": "code",
   "execution_count": 22,
   "metadata": {},
   "outputs": [],
   "source": [
    "from tensorflow.keras.utils import to_categorical\n",
    "train_labels = to_categorical(train_labels)\n",
    "test_labels = to_categorical(test_labels)"
   ]
  },
  {
   "cell_type": "code",
   "execution_count": 25,
   "metadata": {},
   "outputs": [
    {
     "name": "stdout",
     "output_type": "stream",
     "text": [
      "Epoch 1/20\n",
      "60000/60000 [==============================] - 4s 75us/sample - loss: 0.0024 - acc: 0.9993\n",
      "Epoch 2/20\n",
      "60000/60000 [==============================] - 5s 85us/sample - loss: 0.0016 - acc: 0.9995\n",
      "Epoch 3/20\n",
      "60000/60000 [==============================] - 5s 89us/sample - loss: 0.0014 - acc: 0.9996\n",
      "Epoch 4/20\n",
      "60000/60000 [==============================] - 4s 74us/sample - loss: 0.0013 - acc: 0.9997\n",
      "Epoch 5/20\n",
      "60000/60000 [==============================] - 5s 85us/sample - loss: 9.0949e-04 - acc: 0.9999\n",
      "Epoch 6/20\n",
      "60000/60000 [==============================] - 5s 76us/sample - loss: 8.9255e-04 - acc: 0.9997\n",
      "Epoch 7/20\n",
      "60000/60000 [==============================] - 5s 76us/sample - loss: 6.6172e-04 - acc: 0.9998\n",
      "Epoch 8/20\n",
      "60000/60000 [==============================] - 5s 83us/sample - loss: 4.2893e-04 - acc: 0.9999\n",
      "Epoch 9/20\n",
      "60000/60000 [==============================] - 5s 81us/sample - loss: 4.8463e-04 - acc: 0.9999\n",
      "Epoch 10/20\n",
      "60000/60000 [==============================] - 6s 96us/sample - loss: 3.4644e-04 - acc: 0.9999\n",
      "Epoch 11/20\n",
      "60000/60000 [==============================] - 5s 79us/sample - loss: 4.5953e-04 - acc: 0.9998\n",
      "Epoch 12/20\n",
      "60000/60000 [==============================] - 5s 89us/sample - loss: 1.6641e-04 - acc: 1.0000\n",
      "Epoch 13/20\n",
      "60000/60000 [==============================] - 5s 79us/sample - loss: 1.5260e-04 - acc: 1.0000\n",
      "Epoch 14/20\n",
      "60000/60000 [==============================] - 5s 78us/sample - loss: 1.9880e-04 - acc: 0.9999\n",
      "Epoch 15/20\n",
      "60000/60000 [==============================] - 6s 94us/sample - loss: 1.3966e-04 - acc: 1.0000\n",
      "Epoch 16/20\n",
      "60000/60000 [==============================] - 5s 79us/sample - loss: 1.0027e-04 - acc: 1.0000\n",
      "Epoch 17/20\n",
      "60000/60000 [==============================] - 6s 92us/sample - loss: 1.7853e-04 - acc: 0.9999\n",
      "Epoch 18/20\n",
      "60000/60000 [==============================] - 6s 97us/sample - loss: 4.4677e-05 - acc: 1.00002s - loss: 4.6553e- - ETA: 1s - loss: 4.\n",
      "Epoch 19/20\n",
      "60000/60000 [==============================] - 5s 77us/sample - loss: 8.4170e-05 - acc: 1.0000\n",
      "Epoch 20/20\n",
      "60000/60000 [==============================] - 5s 77us/sample - loss: 2.4202e-05 - acc: 1.0000\n"
     ]
    },
    {
     "data": {
      "text/plain": [
       "<tensorflow.python.keras.callbacks.History at 0x28896e37630>"
      ]
     },
     "execution_count": 25,
     "metadata": {},
     "output_type": "execute_result"
    }
   ],
   "source": [
    "network.fit(train_images, train_labels, epochs=20, batch_size=128)"
   ]
  },
  {
   "cell_type": "code",
   "execution_count": 26,
   "metadata": {},
   "outputs": [
    {
     "name": "stdout",
     "output_type": "stream",
     "text": [
      "10000/10000 [==============================] - 1s 63us/sample - loss: 0.1325 - acc: 0.9832\n"
     ]
    }
   ],
   "source": [
    "test_loss, test_acc = network.evaluate(test_images, test_labels)\n"
   ]
  },
  {
   "cell_type": "code",
   "execution_count": 27,
   "metadata": {},
   "outputs": [
    {
     "name": "stdout",
     "output_type": "stream",
     "text": [
      "test_acc: 0.9832\n"
     ]
    }
   ],
   "source": [
    "print('test_acc:', test_acc)"
   ]
  },
  {
   "cell_type": "code",
   "execution_count": null,
   "metadata": {},
   "outputs": [],
   "source": []
  },
  {
   "cell_type": "code",
   "execution_count": null,
   "metadata": {},
   "outputs": [],
   "source": []
  },
  {
   "cell_type": "code",
   "execution_count": null,
   "metadata": {},
   "outputs": [],
   "source": []
  },
  {
   "cell_type": "code",
   "execution_count": null,
   "metadata": {},
   "outputs": [],
   "source": []
  },
  {
   "cell_type": "code",
   "execution_count": null,
   "metadata": {},
   "outputs": [],
   "source": []
  },
  {
   "cell_type": "code",
   "execution_count": null,
   "metadata": {},
   "outputs": [],
   "source": []
  },
  {
   "cell_type": "code",
   "execution_count": null,
   "metadata": {},
   "outputs": [],
   "source": []
  },
  {
   "cell_type": "code",
   "execution_count": null,
   "metadata": {},
   "outputs": [],
   "source": []
  },
  {
   "cell_type": "code",
   "execution_count": null,
   "metadata": {},
   "outputs": [],
   "source": []
  }
 ],
 "metadata": {
  "kernelspec": {
   "display_name": "Python 3",
   "language": "python",
   "name": "python3"
  },
  "language_info": {
   "codemirror_mode": {
    "name": "ipython",
    "version": 3
   },
   "file_extension": ".py",
   "mimetype": "text/x-python",
   "name": "python",
   "nbconvert_exporter": "python",
   "pygments_lexer": "ipython3",
   "version": "3.7.3"
  }
 },
 "nbformat": 4,
 "nbformat_minor": 2
}
